{
 "cells": [
  {
   "cell_type": "markdown",
   "id": "40f7bca8-6a16-42f2-8d8d-2bacc57d212f",
   "metadata": {},
   "source": [
    "# <center> House Price Analysis Using Linear Regression </center>\n",
    "#### *<center>By Peter Kayode</center>*"
   ]
  },
  {
   "cell_type": "markdown",
   "id": "77a90927-fe41-4ad3-83d5-31ab73ad9a1e",
   "metadata": {},
   "source": [
    "### Importation of Neccessary Libraries"
   ]
  },
  {
   "cell_type": "code",
   "execution_count": 1,
   "id": "651de164-444c-46c6-905e-17b397bcbab7",
   "metadata": {},
   "outputs": [],
   "source": [
    "import pandas as pd\n",
    "import numpy as np\n",
    "import matplotlib.pyplot as plt\n",
    "import seaborn as sns\n",
    "import scipy.stats as stats\n",
    "from sklearn.linear_model import LinearRegression\n",
    "from sklearn.model_selection import train_test_split"
   ]
  },
  {
   "cell_type": "code",
   "execution_count": 2,
   "id": "22d81f39-b083-4d23-bbcc-bcbb3a614d0e",
   "metadata": {},
   "outputs": [],
   "source": [
    "file_path = \"housing.csv\""
   ]
  },
  {
   "cell_type": "code",
   "execution_count": 3,
   "id": "b5a42e7a-46f8-43c2-8df7-e97e9885cabf",
   "metadata": {},
   "outputs": [],
   "source": [
    "data = pd.read_csv(file_path)"
   ]
  },
  {
   "cell_type": "markdown",
   "id": "ced6b82e-cc68-43bb-9aed-f163201a2a57",
   "metadata": {},
   "source": [
    "## Understanding the Data"
   ]
  },
  {
   "cell_type": "code",
   "execution_count": 4,
   "id": "b9161e8d-b38f-4fce-81b1-edd8dc164074",
   "metadata": {},
   "outputs": [
    {
     "data": {
      "text/html": [
       "<div>\n",
       "<style scoped>\n",
       "    .dataframe tbody tr th:only-of-type {\n",
       "        vertical-align: middle;\n",
       "    }\n",
       "\n",
       "    .dataframe tbody tr th {\n",
       "        vertical-align: top;\n",
       "    }\n",
       "\n",
       "    .dataframe thead th {\n",
       "        text-align: right;\n",
       "    }\n",
       "</style>\n",
       "<table border=\"1\" class=\"dataframe\">\n",
       "  <thead>\n",
       "    <tr style=\"text-align: right;\">\n",
       "      <th></th>\n",
       "      <th>longitude</th>\n",
       "      <th>latitude</th>\n",
       "      <th>housing_median_age</th>\n",
       "      <th>total_rooms</th>\n",
       "      <th>total_bedrooms</th>\n",
       "      <th>population</th>\n",
       "      <th>households</th>\n",
       "      <th>median_income</th>\n",
       "      <th>median_house_value</th>\n",
       "      <th>ocean_proximity</th>\n",
       "    </tr>\n",
       "  </thead>\n",
       "  <tbody>\n",
       "    <tr>\n",
       "      <th>0</th>\n",
       "      <td>-122.23</td>\n",
       "      <td>37.88</td>\n",
       "      <td>41.0</td>\n",
       "      <td>880.0</td>\n",
       "      <td>129.0</td>\n",
       "      <td>322.0</td>\n",
       "      <td>126.0</td>\n",
       "      <td>8.3252</td>\n",
       "      <td>452600.0</td>\n",
       "      <td>NEAR BAY</td>\n",
       "    </tr>\n",
       "    <tr>\n",
       "      <th>1</th>\n",
       "      <td>-122.22</td>\n",
       "      <td>37.86</td>\n",
       "      <td>21.0</td>\n",
       "      <td>7099.0</td>\n",
       "      <td>1106.0</td>\n",
       "      <td>2401.0</td>\n",
       "      <td>1138.0</td>\n",
       "      <td>8.3014</td>\n",
       "      <td>358500.0</td>\n",
       "      <td>NEAR BAY</td>\n",
       "    </tr>\n",
       "    <tr>\n",
       "      <th>2</th>\n",
       "      <td>-122.24</td>\n",
       "      <td>37.85</td>\n",
       "      <td>52.0</td>\n",
       "      <td>1467.0</td>\n",
       "      <td>190.0</td>\n",
       "      <td>496.0</td>\n",
       "      <td>177.0</td>\n",
       "      <td>7.2574</td>\n",
       "      <td>352100.0</td>\n",
       "      <td>NEAR BAY</td>\n",
       "    </tr>\n",
       "    <tr>\n",
       "      <th>3</th>\n",
       "      <td>-122.25</td>\n",
       "      <td>37.85</td>\n",
       "      <td>52.0</td>\n",
       "      <td>1274.0</td>\n",
       "      <td>235.0</td>\n",
       "      <td>558.0</td>\n",
       "      <td>219.0</td>\n",
       "      <td>5.6431</td>\n",
       "      <td>341300.0</td>\n",
       "      <td>NEAR BAY</td>\n",
       "    </tr>\n",
       "    <tr>\n",
       "      <th>4</th>\n",
       "      <td>-122.25</td>\n",
       "      <td>37.85</td>\n",
       "      <td>52.0</td>\n",
       "      <td>1627.0</td>\n",
       "      <td>280.0</td>\n",
       "      <td>565.0</td>\n",
       "      <td>259.0</td>\n",
       "      <td>3.8462</td>\n",
       "      <td>342200.0</td>\n",
       "      <td>NEAR BAY</td>\n",
       "    </tr>\n",
       "    <tr>\n",
       "      <th>...</th>\n",
       "      <td>...</td>\n",
       "      <td>...</td>\n",
       "      <td>...</td>\n",
       "      <td>...</td>\n",
       "      <td>...</td>\n",
       "      <td>...</td>\n",
       "      <td>...</td>\n",
       "      <td>...</td>\n",
       "      <td>...</td>\n",
       "      <td>...</td>\n",
       "    </tr>\n",
       "    <tr>\n",
       "      <th>20635</th>\n",
       "      <td>-121.09</td>\n",
       "      <td>39.48</td>\n",
       "      <td>25.0</td>\n",
       "      <td>1665.0</td>\n",
       "      <td>374.0</td>\n",
       "      <td>845.0</td>\n",
       "      <td>330.0</td>\n",
       "      <td>1.5603</td>\n",
       "      <td>78100.0</td>\n",
       "      <td>INLAND</td>\n",
       "    </tr>\n",
       "    <tr>\n",
       "      <th>20636</th>\n",
       "      <td>-121.21</td>\n",
       "      <td>39.49</td>\n",
       "      <td>18.0</td>\n",
       "      <td>697.0</td>\n",
       "      <td>150.0</td>\n",
       "      <td>356.0</td>\n",
       "      <td>114.0</td>\n",
       "      <td>2.5568</td>\n",
       "      <td>77100.0</td>\n",
       "      <td>INLAND</td>\n",
       "    </tr>\n",
       "    <tr>\n",
       "      <th>20637</th>\n",
       "      <td>-121.22</td>\n",
       "      <td>39.43</td>\n",
       "      <td>17.0</td>\n",
       "      <td>2254.0</td>\n",
       "      <td>485.0</td>\n",
       "      <td>1007.0</td>\n",
       "      <td>433.0</td>\n",
       "      <td>1.7000</td>\n",
       "      <td>92300.0</td>\n",
       "      <td>INLAND</td>\n",
       "    </tr>\n",
       "    <tr>\n",
       "      <th>20638</th>\n",
       "      <td>-121.32</td>\n",
       "      <td>39.43</td>\n",
       "      <td>18.0</td>\n",
       "      <td>1860.0</td>\n",
       "      <td>409.0</td>\n",
       "      <td>741.0</td>\n",
       "      <td>349.0</td>\n",
       "      <td>1.8672</td>\n",
       "      <td>84700.0</td>\n",
       "      <td>INLAND</td>\n",
       "    </tr>\n",
       "    <tr>\n",
       "      <th>20639</th>\n",
       "      <td>-121.24</td>\n",
       "      <td>39.37</td>\n",
       "      <td>16.0</td>\n",
       "      <td>2785.0</td>\n",
       "      <td>616.0</td>\n",
       "      <td>1387.0</td>\n",
       "      <td>530.0</td>\n",
       "      <td>2.3886</td>\n",
       "      <td>89400.0</td>\n",
       "      <td>INLAND</td>\n",
       "    </tr>\n",
       "  </tbody>\n",
       "</table>\n",
       "<p>20640 rows × 10 columns</p>\n",
       "</div>"
      ],
      "text/plain": [
       "       longitude  latitude  housing_median_age  total_rooms  total_bedrooms  \\\n",
       "0        -122.23     37.88                41.0        880.0           129.0   \n",
       "1        -122.22     37.86                21.0       7099.0          1106.0   \n",
       "2        -122.24     37.85                52.0       1467.0           190.0   \n",
       "3        -122.25     37.85                52.0       1274.0           235.0   \n",
       "4        -122.25     37.85                52.0       1627.0           280.0   \n",
       "...          ...       ...                 ...          ...             ...   \n",
       "20635    -121.09     39.48                25.0       1665.0           374.0   \n",
       "20636    -121.21     39.49                18.0        697.0           150.0   \n",
       "20637    -121.22     39.43                17.0       2254.0           485.0   \n",
       "20638    -121.32     39.43                18.0       1860.0           409.0   \n",
       "20639    -121.24     39.37                16.0       2785.0           616.0   \n",
       "\n",
       "       population  households  median_income  median_house_value  \\\n",
       "0           322.0       126.0         8.3252            452600.0   \n",
       "1          2401.0      1138.0         8.3014            358500.0   \n",
       "2           496.0       177.0         7.2574            352100.0   \n",
       "3           558.0       219.0         5.6431            341300.0   \n",
       "4           565.0       259.0         3.8462            342200.0   \n",
       "...           ...         ...            ...                 ...   \n",
       "20635       845.0       330.0         1.5603             78100.0   \n",
       "20636       356.0       114.0         2.5568             77100.0   \n",
       "20637      1007.0       433.0         1.7000             92300.0   \n",
       "20638       741.0       349.0         1.8672             84700.0   \n",
       "20639      1387.0       530.0         2.3886             89400.0   \n",
       "\n",
       "      ocean_proximity  \n",
       "0            NEAR BAY  \n",
       "1            NEAR BAY  \n",
       "2            NEAR BAY  \n",
       "3            NEAR BAY  \n",
       "4            NEAR BAY  \n",
       "...               ...  \n",
       "20635          INLAND  \n",
       "20636          INLAND  \n",
       "20637          INLAND  \n",
       "20638          INLAND  \n",
       "20639          INLAND  \n",
       "\n",
       "[20640 rows x 10 columns]"
      ]
     },
     "execution_count": 4,
     "metadata": {},
     "output_type": "execute_result"
    }
   ],
   "source": [
    "data"
   ]
  },
  {
   "cell_type": "code",
   "execution_count": 5,
   "id": "6af2d2e9-62c3-467c-9c6b-5586474ab175",
   "metadata": {},
   "outputs": [
    {
     "name": "stdout",
     "output_type": "stream",
     "text": [
      "<class 'pandas.core.frame.DataFrame'>\n",
      "RangeIndex: 20640 entries, 0 to 20639\n",
      "Data columns (total 10 columns):\n",
      " #   Column              Non-Null Count  Dtype  \n",
      "---  ------              --------------  -----  \n",
      " 0   longitude           20640 non-null  float64\n",
      " 1   latitude            20640 non-null  float64\n",
      " 2   housing_median_age  20640 non-null  float64\n",
      " 3   total_rooms         20640 non-null  float64\n",
      " 4   total_bedrooms      20433 non-null  float64\n",
      " 5   population          20640 non-null  float64\n",
      " 6   households          20640 non-null  float64\n",
      " 7   median_income       20640 non-null  float64\n",
      " 8   median_house_value  20640 non-null  float64\n",
      " 9   ocean_proximity     20640 non-null  object \n",
      "dtypes: float64(9), object(1)\n",
      "memory usage: 1.6+ MB\n"
     ]
    }
   ],
   "source": [
    "data.info()"
   ]
  },
  {
   "cell_type": "code",
   "execution_count": 6,
   "id": "81559294-987e-4214-8694-e65c88c33ba5",
   "metadata": {},
   "outputs": [
    {
     "data": {
      "text/plain": [
       "Index(['longitude', 'latitude', 'housing_median_age', 'total_rooms',\n",
       "       'total_bedrooms', 'population', 'households', 'median_income',\n",
       "       'median_house_value', 'ocean_proximity'],\n",
       "      dtype='object')"
      ]
     },
     "execution_count": 6,
     "metadata": {},
     "output_type": "execute_result"
    }
   ],
   "source": [
    "data.columns"
   ]
  },
  {
   "cell_type": "code",
   "execution_count": 7,
   "id": "7302cb88-21c3-41f0-8807-e0380bda43c4",
   "metadata": {},
   "outputs": [
    {
     "data": {
      "text/plain": [
       "array(['NEAR BAY', '<1H OCEAN', 'INLAND', 'NEAR OCEAN', 'ISLAND'],\n",
       "      dtype=object)"
      ]
     },
     "execution_count": 7,
     "metadata": {},
     "output_type": "execute_result"
    }
   ],
   "source": [
    "data[\"ocean_proximity\"].unique()"
   ]
  },
  {
   "cell_type": "markdown",
   "id": "36bb9337-83c3-4476-bbad-dd05c142b50d",
   "metadata": {},
   "source": [
    "## Checking for missing Data"
   ]
  },
  {
   "cell_type": "code",
   "execution_count": 8,
   "id": "35c242a7-5f1a-4869-b39a-76ae23bafd2a",
   "metadata": {},
   "outputs": [
    {
     "name": "stdout",
     "output_type": "stream",
     "text": [
      "Missing Values in Each Columns: \n",
      " longitude               0\n",
      "latitude                0\n",
      "housing_median_age      0\n",
      "total_rooms             0\n",
      "total_bedrooms        207\n",
      "population              0\n",
      "households              0\n",
      "median_income           0\n",
      "median_house_value      0\n",
      "ocean_proximity         0\n",
      "dtype: int64\n",
      "\n",
      "Percentage of Missing Data: \n",
      " longitude             0.000000\n",
      "latitude              0.000000\n",
      "housing_median_age    0.000000\n",
      "total_rooms           0.000000\n",
      "total_bedrooms        1.002907\n",
      "population            0.000000\n",
      "households            0.000000\n",
      "median_income         0.000000\n",
      "median_house_value    0.000000\n",
      "ocean_proximity       0.000000\n",
      "dtype: float64\n"
     ]
    }
   ],
   "source": [
    "# Checking out for missing Data\n",
    "missing_values = data.isnull().sum()\n",
    "\n",
    "#Calculate the percentage of missing data in each column\n",
    "missing_percentage = (missing_values / len(data)) * 100\n",
    "\n",
    "#Display the missing data statistics\n",
    "print(\"Missing Values in Each Columns: \\n\", missing_values)\n",
    "print(\"\\nPercentage of Missing Data: \\n\", missing_percentage)"
   ]
  },
  {
   "cell_type": "code",
   "execution_count": 9,
   "id": "a9cc436e-0776-4f20-b6fa-25263cbd6e1e",
   "metadata": {},
   "outputs": [],
   "source": [
    "#Remove rows with missing Values\n",
    "\n",
    "data_cleaned = data.dropna()"
   ]
  },
  {
   "cell_type": "code",
   "execution_count": 10,
   "id": "120c3a34-1879-4bd9-a527-ae95a34da42c",
   "metadata": {},
   "outputs": [
    {
     "name": "stdout",
     "output_type": "stream",
     "text": [
      "\n",
      "Missing values in each columns after removal:\n",
      "longitude             0\n",
      "latitude              0\n",
      "housing_median_age    0\n",
      "total_rooms           0\n",
      "total_bedrooms        0\n",
      "population            0\n",
      "households            0\n",
      "median_income         0\n",
      "median_house_value    0\n",
      "ocean_proximity       0\n",
      "dtype: int64\n"
     ]
    }
   ],
   "source": [
    "#Verify that the missing values has been really droped\n",
    "\n",
    "print(\"\\nMissing values in each columns after removal:\")\n",
    "print(data_cleaned.isnull().sum())"
   ]
  },
  {
   "cell_type": "markdown",
   "id": "e53933d7-f8c7-47c5-8187-e86774dd203e",
   "metadata": {},
   "source": [
    "## Data Exploration and Visualization"
   ]
  },
  {
   "cell_type": "code",
   "execution_count": 11,
   "id": "41db320b-6db5-4257-93ea-27d650b32ef3",
   "metadata": {},
   "outputs": [
    {
     "data": {
      "text/html": [
       "<div>\n",
       "<style scoped>\n",
       "    .dataframe tbody tr th:only-of-type {\n",
       "        vertical-align: middle;\n",
       "    }\n",
       "\n",
       "    .dataframe tbody tr th {\n",
       "        vertical-align: top;\n",
       "    }\n",
       "\n",
       "    .dataframe thead th {\n",
       "        text-align: right;\n",
       "    }\n",
       "</style>\n",
       "<table border=\"1\" class=\"dataframe\">\n",
       "  <thead>\n",
       "    <tr style=\"text-align: right;\">\n",
       "      <th></th>\n",
       "      <th>longitude</th>\n",
       "      <th>latitude</th>\n",
       "      <th>housing_median_age</th>\n",
       "      <th>total_rooms</th>\n",
       "      <th>total_bedrooms</th>\n",
       "      <th>population</th>\n",
       "      <th>households</th>\n",
       "      <th>median_income</th>\n",
       "      <th>median_house_value</th>\n",
       "    </tr>\n",
       "  </thead>\n",
       "  <tbody>\n",
       "    <tr>\n",
       "      <th>count</th>\n",
       "      <td>20640.000000</td>\n",
       "      <td>20640.000000</td>\n",
       "      <td>20640.000000</td>\n",
       "      <td>20640.000000</td>\n",
       "      <td>20433.000000</td>\n",
       "      <td>20640.000000</td>\n",
       "      <td>20640.000000</td>\n",
       "      <td>20640.000000</td>\n",
       "      <td>20640.000000</td>\n",
       "    </tr>\n",
       "    <tr>\n",
       "      <th>mean</th>\n",
       "      <td>-119.569704</td>\n",
       "      <td>35.631861</td>\n",
       "      <td>28.639486</td>\n",
       "      <td>2635.763081</td>\n",
       "      <td>537.870553</td>\n",
       "      <td>1425.476744</td>\n",
       "      <td>499.539680</td>\n",
       "      <td>3.870671</td>\n",
       "      <td>206855.816909</td>\n",
       "    </tr>\n",
       "    <tr>\n",
       "      <th>std</th>\n",
       "      <td>2.003532</td>\n",
       "      <td>2.135952</td>\n",
       "      <td>12.585558</td>\n",
       "      <td>2181.615252</td>\n",
       "      <td>421.385070</td>\n",
       "      <td>1132.462122</td>\n",
       "      <td>382.329753</td>\n",
       "      <td>1.899822</td>\n",
       "      <td>115395.615874</td>\n",
       "    </tr>\n",
       "    <tr>\n",
       "      <th>min</th>\n",
       "      <td>-124.350000</td>\n",
       "      <td>32.540000</td>\n",
       "      <td>1.000000</td>\n",
       "      <td>2.000000</td>\n",
       "      <td>1.000000</td>\n",
       "      <td>3.000000</td>\n",
       "      <td>1.000000</td>\n",
       "      <td>0.499900</td>\n",
       "      <td>14999.000000</td>\n",
       "    </tr>\n",
       "    <tr>\n",
       "      <th>25%</th>\n",
       "      <td>-121.800000</td>\n",
       "      <td>33.930000</td>\n",
       "      <td>18.000000</td>\n",
       "      <td>1447.750000</td>\n",
       "      <td>296.000000</td>\n",
       "      <td>787.000000</td>\n",
       "      <td>280.000000</td>\n",
       "      <td>2.563400</td>\n",
       "      <td>119600.000000</td>\n",
       "    </tr>\n",
       "    <tr>\n",
       "      <th>50%</th>\n",
       "      <td>-118.490000</td>\n",
       "      <td>34.260000</td>\n",
       "      <td>29.000000</td>\n",
       "      <td>2127.000000</td>\n",
       "      <td>435.000000</td>\n",
       "      <td>1166.000000</td>\n",
       "      <td>409.000000</td>\n",
       "      <td>3.534800</td>\n",
       "      <td>179700.000000</td>\n",
       "    </tr>\n",
       "    <tr>\n",
       "      <th>75%</th>\n",
       "      <td>-118.010000</td>\n",
       "      <td>37.710000</td>\n",
       "      <td>37.000000</td>\n",
       "      <td>3148.000000</td>\n",
       "      <td>647.000000</td>\n",
       "      <td>1725.000000</td>\n",
       "      <td>605.000000</td>\n",
       "      <td>4.743250</td>\n",
       "      <td>264725.000000</td>\n",
       "    </tr>\n",
       "    <tr>\n",
       "      <th>max</th>\n",
       "      <td>-114.310000</td>\n",
       "      <td>41.950000</td>\n",
       "      <td>52.000000</td>\n",
       "      <td>39320.000000</td>\n",
       "      <td>6445.000000</td>\n",
       "      <td>35682.000000</td>\n",
       "      <td>6082.000000</td>\n",
       "      <td>15.000100</td>\n",
       "      <td>500001.000000</td>\n",
       "    </tr>\n",
       "  </tbody>\n",
       "</table>\n",
       "</div>"
      ],
      "text/plain": [
       "          longitude      latitude  housing_median_age   total_rooms  \\\n",
       "count  20640.000000  20640.000000        20640.000000  20640.000000   \n",
       "mean    -119.569704     35.631861           28.639486   2635.763081   \n",
       "std        2.003532      2.135952           12.585558   2181.615252   \n",
       "min     -124.350000     32.540000            1.000000      2.000000   \n",
       "25%     -121.800000     33.930000           18.000000   1447.750000   \n",
       "50%     -118.490000     34.260000           29.000000   2127.000000   \n",
       "75%     -118.010000     37.710000           37.000000   3148.000000   \n",
       "max     -114.310000     41.950000           52.000000  39320.000000   \n",
       "\n",
       "       total_bedrooms    population    households  median_income  \\\n",
       "count    20433.000000  20640.000000  20640.000000   20640.000000   \n",
       "mean       537.870553   1425.476744    499.539680       3.870671   \n",
       "std        421.385070   1132.462122    382.329753       1.899822   \n",
       "min          1.000000      3.000000      1.000000       0.499900   \n",
       "25%        296.000000    787.000000    280.000000       2.563400   \n",
       "50%        435.000000   1166.000000    409.000000       3.534800   \n",
       "75%        647.000000   1725.000000    605.000000       4.743250   \n",
       "max       6445.000000  35682.000000   6082.000000      15.000100   \n",
       "\n",
       "       median_house_value  \n",
       "count        20640.000000  \n",
       "mean        206855.816909  \n",
       "std         115395.615874  \n",
       "min          14999.000000  \n",
       "25%         119600.000000  \n",
       "50%         179700.000000  \n",
       "75%         264725.000000  \n",
       "max         500001.000000  "
      ]
     },
     "execution_count": 11,
     "metadata": {},
     "output_type": "execute_result"
    }
   ],
   "source": [
    "data.describe()"
   ]
  },
  {
   "cell_type": "code",
   "execution_count": 12,
   "id": "1a369075-19b8-47d0-9a4a-a5178f11a156",
   "metadata": {},
   "outputs": [
    {
     "data": {
      "image/png": "[encoded data removed]",
      "text/plain": [
       "<Figure size 1000x600 with 1 Axes>"
      ]
     },
     "metadata": {},
     "output_type": "display_data"
    }
   ],
   "source": [
    "sns.set(style = \"whitegrid\")\n",
    "plt.figure(figsize = (10, 6))\n",
    "sns.histplot(data_cleaned['median_house_value'], color = \"forestgreen\", kde = True)\n",
    "plt.title(\"Distribution of Median House Values\")\n",
    "plt.xlabel(\"Median House Value\")\n",
    "plt.ylabel(\"Frequency\")\n",
    "plt.show()\n",
    "              "
   ]
  },
  {
   "cell_type": "markdown",
   "id": "1613342b-3680-4f2a-81a3-c6f165a08d74",
   "metadata": {},
   "source": [
    "## Using InterQuartile Range to Remove Outliers"
   ]
  },
  {
   "cell_type": "code",
   "execution_count": 13,
   "id": "f025717a-687f-4234-8946-cf784f725755",
   "metadata": {},
   "outputs": [
    {
     "name": "stdout",
     "output_type": "stream",
     "text": [
      "Q1 =  119500.0\n",
      "Q3 =  264700.0\n",
      "InterQuantile Range =  145200.0\n",
      "Original data shape:  (20433, 10)\n",
      "New data shape:  (19369, 10)\n"
     ]
    }
   ],
   "source": [
    "Q1 = data_cleaned[\"median_house_value\"].quantile(0.25)\n",
    "print(\"Q1 = \", Q1)\n",
    "\n",
    "Q3 = data_cleaned[\"median_house_value\"].quantile(0.75)\n",
    "print(\"Q3 = \", Q3)\n",
    "\n",
    "IQR = Q3 - Q1\n",
    "print(\"InterQuantile Range = \", IQR)\n",
    "\n",
    "# Define the bounds for the outliers\n",
    "lower_bound = Q1 - 1.5 * IQR\n",
    "upper_bound = Q3 + 1.5 * IQR\n",
    "\n",
    "# Remove outliers\n",
    "data_no_outlier_1 = data_cleaned[(data_cleaned[\"median_house_value\"] >= lower_bound) & (data_cleaned[\"median_house_value\"] <= upper_bound)]\n",
    "\n",
    "# Check the shape of the data baefore and after removal of outliers\n",
    "print(\"Original data shape: \", data_cleaned.shape)\n",
    "print(\"New data shape: \", data_no_outlier_1.shape)"
   ]
  },
  {
   "cell_type": "markdown",
   "id": "f3621baa-2c0f-4542-8b7f-3fbdae09f29a",
   "metadata": {},
   "source": [
    "## BoxPlot for Outlier Detection"
   ]
  },
  {
   "cell_type": "code",
   "execution_count": 14,
   "id": "c1bf346d-43d5-475f-9119-6e326d3082ea",
   "metadata": {},
   "outputs": [
    {
     "data": {
      "image/png": "[encoded data removed]",
      "text/plain": [
       "<Figure size 1000x600 with 1 Axes>"
      ]
     },
     "metadata": {},
     "output_type": "display_data"
    }
   ],
   "source": [
    "plt.figure(figsize=(10, 6))\n",
    "sns.boxplot(x = data_no_outlier_1[\"median_income\"], color = \"purple\")\n",
    "plt.title(\"Outlier Analysis in Median Income\")\n",
    "plt.xlabel(\"Medin Income\")\n",
    "plt.show()"
   ]
  },
  {
   "cell_type": "code",
   "execution_count": 15,
   "id": "b1caa27d-3731-4929-bb3b-0a286112890d",
   "metadata": {},
   "outputs": [
    {
     "name": "stdout",
     "output_type": "stream",
     "text": [
      "Q1 =  2.5223\n",
      "Q3 =  4.5724\n",
      "InterQuantile Range =  2.0501\n",
      "Original data shape:  (19369, 10)\n",
      "New data shape:  (19026, 10)\n"
     ]
    }
   ],
   "source": [
    "Q1 = data_no_outlier_1[\"median_income\"].quantile(0.25)\n",
    "print(\"Q1 = \", Q1)\n",
    "\n",
    "Q3 = data_no_outlier_1[\"median_income\"].quantile(0.75)\n",
    "print(\"Q3 = \", Q3)\n",
    "\n",
    "IQR = Q3 - Q1\n",
    "print(\"InterQuantile Range = \", IQR)\n",
    "\n",
    "# Define the bounds for the outliers\n",
    "lower_bound = Q1 - 1.5 * IQR\n",
    "upper_bound = Q3 + 1.5 * IQR\n",
    "\n",
    "# Remove outliers\n",
    "data_no_outlier_2 = data_no_outlier_1[(data_no_outlier_1[\"median_income\"] >= lower_bound) & (data_no_outlier_1[\"median_income\"] <= upper_bound)]\n",
    "\n",
    "# Check the shape of the data baefore and after removal of outliers\n",
    "print(\"Original data shape: \", data_no_outlier_1.shape)\n",
    "print(\"New data shape: \", data_no_outlier_2.shape)"
   ]
  },
  {
   "cell_type": "markdown",
   "id": "95ccb3ce-c3f0-4631-b9fb-c4b75cb1e9f9",
   "metadata": {},
   "source": [
    "## Correlation HeatMap"
   ]
  },
  {
   "cell_type": "code",
   "execution_count": 16,
   "id": "dfedf83b-5cd6-4f2e-bdff-e87c050ab6cc",
   "metadata": {},
   "outputs": [],
   "source": [
    "# # Droping the ocean_proximity column since its not a continuous value\n",
    "\n",
    "# data = data.drop(\"ocean_proximity\", axis = 1)\n",
    "# data.columns\n"
   ]
  },
  {
   "cell_type": "code",
   "execution_count": 17,
   "id": "0fd5ab46-b831-43f9-9fbf-b19c8274fab5",
   "metadata": {},
   "outputs": [
    {
     "data": {
      "image/png": "[encoded data removed]",
      "text/plain": [
       "<Figure size 1200x800 with 2 Axes>"
      ]
     },
     "metadata": {},
     "output_type": "display_data"
    }
   ],
   "source": [
    "# Drop non-numeric columns or encode categorical variables\n",
    "numeric_data = data.select_dtypes(include=[np.number])\n",
    "\n",
    "# Compute correlation matrix\n",
    "correlation_matrix = numeric_data.corr()\n",
    "\n",
    "# Plot correlation heatmap\n",
    "plt.figure(figsize=(12, 8))\n",
    "sns.heatmap(correlation_matrix, annot=True, cmap=\"Greens\")\n",
    "plt.title(\"Correlation Heatmap of Housing Data\")\n",
    "plt.show()"
   ]
  },
  {
   "cell_type": "markdown",
   "id": "c51ea14a-d065-48b5-b1f2-36babfb6adb1",
   "metadata": {},
   "source": [
    "From the Heat map above, we see that some pair of independent variables are highly correlated in which is not good enough\n",
    "\n",
    "We will drop the variable that has more highly correlation with other independent variable"
   ]
  },
  {
   "cell_type": "code",
   "execution_count": 18,
   "id": "85886c91-5041-40ba-a9f9-44150e449dcc",
   "metadata": {},
   "outputs": [
    {
     "data": {
      "text/plain": [
       "Index(['longitude', 'latitude', 'housing_median_age', 'total_rooms',\n",
       "       'population', 'households', 'median_income', 'median_house_value',\n",
       "       'ocean_proximity'],\n",
       "      dtype='object')"
      ]
     },
     "execution_count": 18,
     "metadata": {},
     "output_type": "execute_result"
    }
   ],
   "source": [
    "data = data.drop(\"total_bedrooms\", axis = 1)\n",
    "data.columns"
   ]
  },
  {
   "cell_type": "code",
   "execution_count": null,
   "id": "81b83f7a-28ec-49bd-a233-c9aa7e1d33c2",
   "metadata": {},
   "outputs": [],
   "source": []
  },
  {
   "cell_type": "markdown",
   "id": "292f11f4-02a7-4ebd-aebc-e45b5b351a46",
   "metadata": {},
   "source": [
    "## OneHotEncoder"
   ]
  },
  {
   "cell_type": "markdown",
   "id": "0cd07696-1b12-47e0-9c7e-b6212d0d4a76",
   "metadata": {},
   "source": [
    "Using the OneHotEncoder to convert the string categorical variable (ocean_proximity) into dummy variables because Linear Regression does not support categorical variables"
   ]
  },
  {
   "cell_type": "code",
   "execution_count": 19,
   "id": "7a1cdae2-d9ab-4546-91aa-e94e5234c80d",
   "metadata": {},
   "outputs": [
    {
     "name": "stdout",
     "output_type": "stream",
     "text": [
      "Unique values in ocean_proximity: ['NEAR BAY' '<1H OCEAN' 'INLAND' 'NEAR OCEAN' 'ISLAND']\n"
     ]
    }
   ],
   "source": [
    "#Unique value count for categorical variables\n",
    "\n",
    "for column in [\"ocean_proximity\"]:\n",
    "    print(f\"Unique values in {column}:\", data[column].unique())"
   ]
  },
  {
   "cell_type": "code",
   "execution_count": 20,
   "id": "15af7315-9da4-4576-8dfb-b74643b60c99",
   "metadata": {
    "scrolled": true
   },
   "outputs": [],
   "source": [
    "ocean_proximity_dummies = pd.get_dummies(data[\"ocean_proximity\"], prefix = \"ocean_proximity\")\n",
    "data = pd.concat([data.drop(\"ocean_proximity\", axis = 1), ocean_proximity_dummies], axis = 1)"
   ]
  },
  {
   "cell_type": "code",
   "execution_count": 21,
   "id": "ee372d1e-9fb5-4f6f-91ef-a02f36dbcfae",
   "metadata": {},
   "outputs": [],
   "source": [
    "# Convert boolean columns to integer columns\n",
    "data['ocean_proximity_<1H OCEAN'] = data['ocean_proximity_<1H OCEAN'].astype(int)\n",
    "data['ocean_proximity_INLAND'] = data['ocean_proximity_INLAND'].astype(int)\n",
    "data['ocean_proximity_NEAR BAY'] = data['ocean_proximity_NEAR BAY'].astype(int)\n",
    "data['ocean_proximity_NEAR OCEAN'] = data['ocean_proximity_NEAR OCEAN'].astype(int)"
   ]
  },
  {
   "cell_type": "code",
   "execution_count": 22,
   "id": "982b740f-fdf8-4475-bf0c-594a648bf3c6",
   "metadata": {},
   "outputs": [
    {
     "data": {
      "text/html": [
       "<div>\n",
       "<style scoped>\n",
       "    .dataframe tbody tr th:only-of-type {\n",
       "        vertical-align: middle;\n",
       "    }\n",
       "\n",
       "    .dataframe tbody tr th {\n",
       "        vertical-align: top;\n",
       "    }\n",
       "\n",
       "    .dataframe thead th {\n",
       "        text-align: right;\n",
       "    }\n",
       "</style>\n",
       "<table border=\"1\" class=\"dataframe\">\n",
       "  <thead>\n",
       "    <tr style=\"text-align: right;\">\n",
       "      <th></th>\n",
       "      <th>ocean_proximity_&lt;1H OCEAN</th>\n",
       "      <th>ocean_proximity_INLAND</th>\n",
       "      <th>ocean_proximity_ISLAND</th>\n",
       "      <th>ocean_proximity_NEAR BAY</th>\n",
       "      <th>ocean_proximity_NEAR OCEAN</th>\n",
       "    </tr>\n",
       "  </thead>\n",
       "  <tbody>\n",
       "    <tr>\n",
       "      <th>0</th>\n",
       "      <td>False</td>\n",
       "      <td>False</td>\n",
       "      <td>False</td>\n",
       "      <td>True</td>\n",
       "      <td>False</td>\n",
       "    </tr>\n",
       "    <tr>\n",
       "      <th>1</th>\n",
       "      <td>False</td>\n",
       "      <td>False</td>\n",
       "      <td>False</td>\n",
       "      <td>True</td>\n",
       "      <td>False</td>\n",
       "    </tr>\n",
       "    <tr>\n",
       "      <th>2</th>\n",
       "      <td>False</td>\n",
       "      <td>False</td>\n",
       "      <td>False</td>\n",
       "      <td>True</td>\n",
       "      <td>False</td>\n",
       "    </tr>\n",
       "    <tr>\n",
       "      <th>3</th>\n",
       "      <td>False</td>\n",
       "      <td>False</td>\n",
       "      <td>False</td>\n",
       "      <td>True</td>\n",
       "      <td>False</td>\n",
       "    </tr>\n",
       "    <tr>\n",
       "      <th>4</th>\n",
       "      <td>False</td>\n",
       "      <td>False</td>\n",
       "      <td>False</td>\n",
       "      <td>True</td>\n",
       "      <td>False</td>\n",
       "    </tr>\n",
       "    <tr>\n",
       "      <th>...</th>\n",
       "      <td>...</td>\n",
       "      <td>...</td>\n",
       "      <td>...</td>\n",
       "      <td>...</td>\n",
       "      <td>...</td>\n",
       "    </tr>\n",
       "    <tr>\n",
       "      <th>20635</th>\n",
       "      <td>False</td>\n",
       "      <td>True</td>\n",
       "      <td>False</td>\n",
       "      <td>False</td>\n",
       "      <td>False</td>\n",
       "    </tr>\n",
       "    <tr>\n",
       "      <th>20636</th>\n",
       "      <td>False</td>\n",
       "      <td>True</td>\n",
       "      <td>False</td>\n",
       "      <td>False</td>\n",
       "      <td>False</td>\n",
       "    </tr>\n",
       "    <tr>\n",
       "      <th>20637</th>\n",
       "      <td>False</td>\n",
       "      <td>True</td>\n",
       "      <td>False</td>\n",
       "      <td>False</td>\n",
       "      <td>False</td>\n",
       "    </tr>\n",
       "    <tr>\n",
       "      <th>20638</th>\n",
       "      <td>False</td>\n",
       "      <td>True</td>\n",
       "      <td>False</td>\n",
       "      <td>False</td>\n",
       "      <td>False</td>\n",
       "    </tr>\n",
       "    <tr>\n",
       "      <th>20639</th>\n",
       "      <td>False</td>\n",
       "      <td>True</td>\n",
       "      <td>False</td>\n",
       "      <td>False</td>\n",
       "      <td>False</td>\n",
       "    </tr>\n",
       "  </tbody>\n",
       "</table>\n",
       "<p>20640 rows × 5 columns</p>\n",
       "</div>"
      ],
      "text/plain": [
       "       ocean_proximity_<1H OCEAN  ocean_proximity_INLAND  \\\n",
       "0                          False                   False   \n",
       "1                          False                   False   \n",
       "2                          False                   False   \n",
       "3                          False                   False   \n",
       "4                          False                   False   \n",
       "...                          ...                     ...   \n",
       "20635                      False                    True   \n",
       "20636                      False                    True   \n",
       "20637                      False                    True   \n",
       "20638                      False                    True   \n",
       "20639                      False                    True   \n",
       "\n",
       "       ocean_proximity_ISLAND  ocean_proximity_NEAR BAY  \\\n",
       "0                       False                      True   \n",
       "1                       False                      True   \n",
       "2                       False                      True   \n",
       "3                       False                      True   \n",
       "4                       False                      True   \n",
       "...                       ...                       ...   \n",
       "20635                   False                     False   \n",
       "20636                   False                     False   \n",
       "20637                   False                     False   \n",
       "20638                   False                     False   \n",
       "20639                   False                     False   \n",
       "\n",
       "       ocean_proximity_NEAR OCEAN  \n",
       "0                           False  \n",
       "1                           False  \n",
       "2                           False  \n",
       "3                           False  \n",
       "4                           False  \n",
       "...                           ...  \n",
       "20635                       False  \n",
       "20636                       False  \n",
       "20637                       False  \n",
       "20638                       False  \n",
       "20639                       False  \n",
       "\n",
       "[20640 rows x 5 columns]"
      ]
     },
     "execution_count": 22,
     "metadata": {},
     "output_type": "execute_result"
    }
   ],
   "source": [
    "ocean_proximity_dummies"
   ]
  },
  {
   "cell_type": "code",
   "execution_count": 23,
   "id": "58a661c7-d9f0-4e61-bc45-7dac9437b166",
   "metadata": {},
   "outputs": [],
   "source": [
    "data = data.drop(\"ocean_proximity_ISLAND\", axis = 1)"
   ]
  },
  {
   "cell_type": "code",
   "execution_count": 24,
   "id": "2e62c08f-21ad-4cb3-ae52-34df0e9ced41",
   "metadata": {},
   "outputs": [
    {
     "name": "stdout",
     "output_type": "stream",
     "text": [
      "Index(['longitude', 'latitude', 'housing_median_age', 'total_rooms',\n",
      "       'population', 'households', 'median_income', 'median_house_value',\n",
      "       'ocean_proximity_<1H OCEAN', 'ocean_proximity_INLAND',\n",
      "       'ocean_proximity_NEAR BAY', 'ocean_proximity_NEAR OCEAN'],\n",
      "      dtype='object')\n"
     ]
    }
   ],
   "source": [
    "print(data.columns)"
   ]
  },
  {
   "cell_type": "markdown",
   "id": "757b80a9-b406-4366-93e0-75aed63fc895",
   "metadata": {},
   "source": [
    "## Splitting the Data into Train/Test"
   ]
  },
  {
   "cell_type": "code",
   "execution_count": 25,
   "id": "f632c65c-ee0a-41aa-b947-66f9a7d01a9d",
   "metadata": {},
   "outputs": [
    {
     "name": "stdout",
     "output_type": "stream",
     "text": [
      "Training set size: 16512 samples\n",
      "Test set size: 4128 samples\n"
     ]
    }
   ],
   "source": [
    "# Defining the features (independent variables) and target (dependent variable)\n",
    "\n",
    "features = [\"longitude\", \"latitude\", \"housing_median_age\", \"total_rooms\", \"population\", \"households\", \"median_income\", \"median_house_value\",\n",
    "           \"ocean_proximity_<1H OCEAN\", \"ocean_proximity_INLAND\", \"ocean_proximity_NEAR BAY\", \"ocean_proximity_NEAR OCEAN\"]\n",
    "\n",
    "target = [\"median_house_value\"]\n",
    "\n",
    "X = data[features]\n",
    "y = data[target]\n",
    "\n",
    "# Split the data into a training and a testing set\n",
    "\n",
    "X_train, X_test, y_train, y_test = train_test_split(X, y, test_size = 0.2, random_state = 1111)\n",
    "\n",
    "# Check for the size of the split\n",
    "print(f\"Training set size: {X_train.shape[0]} samples\")\n",
    "print(f\"Test set size: {X_test.shape[0]} samples\")"
   ]
  },
  {
   "cell_type": "code",
   "execution_count": null,
   "id": "8f8aca63-79de-4bbf-81d3-3ee64ec0902b",
   "metadata": {},
   "outputs": [],
   "source": []
  },
  {
   "cell_type": "markdown",
   "id": "aafb1878-cd50-434d-b07e-02d679df38e0",
   "metadata": {},
   "source": [
    "## Training"
   ]
  },
  {
   "cell_type": "code",
   "execution_count": 26,
   "id": "4019f758-5691-4b58-8c1d-9772f7efdc70",
   "metadata": {},
   "outputs": [],
   "source": [
    "import statsmodels.api as sm"
   ]
  },
  {
   "cell_type": "code",
   "execution_count": 27,
   "id": "42607a83-3024-47b4-bf7a-8d1bdbb7c5d4",
   "metadata": {},
   "outputs": [],
   "source": [
    "# Adding a constant to the predictors because statsmodels' OLS doesn't include it by default\n",
    "X_train_const = sm.add_constant(X_train)"
   ]
  },
  {
   "cell_type": "code",
   "execution_count": 28,
   "id": "560a829b-a16e-49c5-8305-9b176336ef66",
   "metadata": {},
   "outputs": [
    {
     "name": "stdout",
     "output_type": "stream",
     "text": [
      "                            OLS Regression Results                            \n",
      "==============================================================================\n",
      "Dep. Variable:     median_house_value   R-squared:                       1.000\n",
      "Model:                            OLS   Adj. R-squared:                  1.000\n",
      "Method:                 Least Squares   F-statistic:                 1.105e+33\n",
      "Date:                Tue, 07 May 2024   Prob (F-statistic):               0.00\n",
      "Time:                        22:57:32   Log-Likelihood:             3.5264e+05\n",
      "No. Observations:               16512   AIC:                        -7.053e+05\n",
      "Df Residuals:                   16499   BIC:                        -7.052e+05\n",
      "Df Model:                          12                                         \n",
      "Covariance Type:            nonrobust                                         \n",
      "==============================================================================================\n",
      "                                 coef    std err          t      P>|t|      [0.025      0.975]\n",
      "----------------------------------------------------------------------------------------------\n",
      "const                       3.594e-09   1.92e-10     18.715      0.000    3.22e-09    3.97e-09\n",
      "longitude                   3.581e-11   2.12e-12     16.914      0.000    3.17e-11       4e-11\n",
      "latitude                    2.785e-11   2.09e-12     13.307      0.000    2.38e-11     3.2e-11\n",
      "housing_median_age          4.832e-13   9.22e-14      5.243      0.000    3.03e-13    6.64e-13\n",
      "total_rooms                -8.771e-15   1.48e-15     -5.933      0.000   -1.17e-14   -5.87e-15\n",
      "population                 -2.176e-14   2.26e-15     -9.645      0.000   -2.62e-14   -1.73e-14\n",
      "households                  9.948e-14   9.38e-15     10.607      0.000    8.11e-14    1.18e-13\n",
      "median_income               6.366e-12    8.6e-13      7.401      0.000    4.68e-12    8.05e-12\n",
      "median_house_value             1.0000   1.46e-17   6.86e+16      0.000       1.000       1.000\n",
      "ocean_proximity_<1H OCEAN  -2.474e-10   5.76e-11     -4.296      0.000    -3.6e-10   -1.35e-10\n",
      "ocean_proximity_INLAND     -2.037e-10   5.77e-11     -3.528      0.000   -3.17e-10   -9.05e-11\n",
      "ocean_proximity_NEAR BAY   -4.511e-10   5.77e-11     -7.822      0.000   -5.64e-10   -3.38e-10\n",
      "ocean_proximity_NEAR OCEAN -8.731e-11   5.76e-11     -1.516      0.130      -2e-10    2.56e-11\n",
      "==============================================================================\n",
      "Omnibus:                     2434.935   Durbin-Watson:                   1.989\n",
      "Prob(Omnibus):                  0.000   Jarque-Bera (JB):             3760.620\n",
      "Skew:                           1.049   Prob(JB):                         0.00\n",
      "Kurtosis:                       4.030   Cond. No.                     4.66e+07\n",
      "==============================================================================\n",
      "\n",
      "Notes:\n",
      "[1] Standard Errors assume that the covariance matrix of the errors is correctly specified.\n",
      "[2] The condition number is large, 4.66e+07. This might indicate that there are\n",
      "strong multicollinearity or other numerical problems.\n"
     ]
    }
   ],
   "source": [
    "# Fit the OLS model\n",
    "\n",
    "model_fitted = sm.OLS(y_train, X_train_const).fit()\n",
    "\n",
    "# Printing Summary\n",
    "print(model_fitted.summary())"
   ]
  },
  {
   "cell_type": "markdown",
   "id": "fd7ecf5d-ba3a-47c3-81df-320a802042e2",
   "metadata": {},
   "source": [
    "## Prediction/Testing"
   ]
  },
  {
   "cell_type": "code",
   "execution_count": 29,
   "id": "398579f9-09dd-4cdb-b929-ee0ab378a2c4",
   "metadata": {
    "scrolled": true
   },
   "outputs": [
    {
     "data": {
      "text/plain": [
       "11272    187500.0\n",
       "9930     269900.0\n",
       "18327    500001.0\n",
       "3377     175000.0\n",
       "15629    250000.0\n",
       "           ...   \n",
       "5254     500001.0\n",
       "3259      98900.0\n",
       "6517     155400.0\n",
       "17515    292200.0\n",
       "2970     176300.0\n",
       "Length: 4128, dtype: float64"
      ]
     },
     "execution_count": 29,
     "metadata": {},
     "output_type": "execute_result"
    }
   ],
   "source": [
    "# Adding a constant to the test predictors\n",
    "\n",
    "X_test_const = sm.add_constant(X_test)\n",
    "\n",
    "# Making predictions on the test set\n",
    "test_predictions = model_fitted.predict(X_test_const)\n",
    "test_predictions"
   ]
  },
  {
   "cell_type": "markdown",
   "id": "a78d14c1-1668-4dd8-921c-cfa69970c448",
   "metadata": {},
   "source": [
    "# Checking OLS Assumption"
   ]
  },
  {
   "cell_type": "markdown",
   "id": "7bc9ab33-63a5-4624-bb07-694d72be7424",
   "metadata": {},
   "source": [
    "## Assumption 1: Linearity"
   ]
  },
  {
   "cell_type": "code",
   "execution_count": 30,
   "id": "a9b752d4-4736-4068-993f-1b607ce4862f",
   "metadata": {},
   "outputs": [
    {
     "data": {
      "image/png": "[encoded data removed]",
      "text/plain": [
       "<Figure size 640x480 with 1 Axes>"
      ]
     },
     "metadata": {},
     "output_type": "display_data"
    }
   ],
   "source": [
    "# Scatter plot for observed vs predicted values on test data\n",
    "\n",
    "plt.scatter(y_test, test_predictions, color = \"forestgreen\")\n",
    "plt.xlabel(\"Observed Values\")\n",
    "plt.ylabel(\"Predicted Values\")\n",
    "plt.title(\"Obsereved vs Predicted Values on Test Data\")\n",
    "plt.plot(y_test, y_test, color = \"darkred\")\n",
    "plt.show()"
   ]
  },
  {
   "cell_type": "markdown",
   "id": "7aeea108-7410-49b2-a0d4-7accee54513e",
   "metadata": {},
   "source": [
    "Positive Linear Relationship: The red line (which represents a perfect prediction line) and the distribution of the data points suggest there's a positive linear relationship between the observed and predicted values. This means that as the actual values increase, the predicted values also increase, which is a good sign for linearity"
   ]
  },
  {
   "cell_type": "markdown",
   "id": "f1dfffeb-a6e1-4d3c-bb6c-6a71cfc31dd1",
   "metadata": {},
   "source": [
    "## Assumption 2: Random Sample"
   ]
  },
  {
   "cell_type": "code",
   "execution_count": 31,
   "id": "9c1f6bc9-b7de-4de3-a30d-8af261bf8675",
   "metadata": {},
   "outputs": [
    {
     "name": "stdout",
     "output_type": "stream",
     "text": [
      "The mean of the residuals is 0.0\n"
     ]
    }
   ],
   "source": [
    "# Calculate the mean of the residuals\n",
    "\n",
    "mean_residuals = np.mean(model_fitted.resid)\n",
    "\n",
    "print(f\"The mean of the residuals is {np.round (mean_residuals, 2)}\")"
   ]
  },
  {
   "cell_type": "markdown",
   "id": "80866a76-6aac-43f6-8d17-1def97be6d06",
   "metadata": {},
   "source": [
    "While we cannot directly observe the true errors in the model, we can work with the residuals, which are the differences between the observed values and the predicted values from the model. If the model is well-fitted, the residuals should be randomly scattered around zero without any systematic patterns."
   ]
  },
  {
   "cell_type": "markdown",
   "id": "f874a097-d154-4531-a638-4a9a9015cc94",
   "metadata": {},
   "source": [
    "## Scaling the Data"
   ]
  },
  {
   "cell_type": "code",
   "execution_count": 32,
   "id": "2dd7d609-931b-4a26-bdc7-acc0708705d0",
   "metadata": {},
   "outputs": [],
   "source": [
    "from sklearn.preprocessing import StandardScaler\n",
    "\n",
    "# Initialize the StandardScaler\n",
    "scaler = StandardScaler()\n",
    "\n",
    "# Fit the scaler om the training data and transform it\n",
    "X_train_scaled = scaler.fit_transform(X_train)\n",
    "\n",
    "# Apply the same transformation to the test data\n",
    "X_test_scaled = scaler.transform(X_test)"
   ]
  },
  {
   "cell_type": "code",
   "execution_count": 33,
   "id": "7d7801f6-078e-4357-99a9-25903f091f5a",
   "metadata": {},
   "outputs": [
    {
     "name": "stdout",
     "output_type": "stream",
     "text": [
      "MSE on Test Set: 3.7602804748498647e-19\n",
      "RMSE on Test Set: 6.132112584460485e-10\n"
     ]
    }
   ],
   "source": [
    "from sklearn.linear_model import LinearRegression\n",
    "from sklearn.metrics import mean_squared_error\n",
    "from math import sqrt\n",
    "\n",
    "# Create and fit the model\n",
    "lr = LinearRegression()\n",
    "lr.fit(X_train_scaled, y_train)\n",
    "\n",
    "# Make predictiions on the scaled test data\n",
    "y_pred = lr.predict(X_test_scaled)\n",
    "\n",
    "# Calculate MSE and RMSE\n",
    "mse = mean_squared_error(y_test, y_pred)\n",
    "rmse = sqrt(mse)\n",
    "\n",
    "# Output the performance metrics\n",
    "print(f\"MSE on Test Set: {mse}\")\n",
    "print(f\"RMSE on Test Set: {rmse}\")"
   ]
  },
  {
   "cell_type": "code",
   "execution_count": null,
   "id": "d91e0b77-768a-4cbd-98ed-106688e735b8",
   "metadata": {},
   "outputs": [],
   "source": []
  }
 ],
 "metadata": {
  "kernelspec": {
   "display_name": "Python 3 (ipykernel)",
   "language": "python",
   "name": "python3"
  },
  "language_info": {
   "codemirror_mode": {
    "name": "ipython",
    "version": 3
   },
   "file_extension": ".py",
   "mimetype": "text/x-python",
   "name": "python",
   "nbconvert_exporter": "python",
   "pygments_lexer": "ipython3",
   "version": "3.11.7"
  }
 },
 "nbformat": 4,
 "nbformat_minor": 5
}
